{
  "nbformat": 4,
  "nbformat_minor": 0,
  "metadata": {
    "colab": {
      "name": "NLP2.ipynb",
      "provenance": [],
      "collapsed_sections": []
    },
    "kernelspec": {
      "name": "python3",
      "display_name": "Python 3"
    },
    "language_info": {
      "name": "python"
    },
    "accelerator": "GPU"
  },
  "cells": [
    {
      "cell_type": "code",
      "source": [
        "import pandas as pd\n",
        "import numpy as np\n",
        "from sklearn.metrics import accuracy_score\n",
        "from simpletransformers.classification import ClassificationModel"
      ],
      "metadata": {
        "id": "z5C5UeMdKqWZ"
      },
      "execution_count": null,
      "outputs": []
    },
    {
      "cell_type": "code",
      "execution_count": null,
      "metadata": {
        "colab": {
          "base_uri": "https://localhost:8080/"
        },
        "id": "pZGBe8RVJWge",
        "outputId": "d8402c2d-f227-4171-9b99-7c4276012e33"
      },
      "outputs": [
        {
          "output_type": "stream",
          "name": "stdout",
          "text": [
            "Mounted at /content/gdrive\n"
          ]
        }
      ],
      "source": [
        "from google.colab import drive\n",
        "drive.mount('/content/gdrive')"
      ]
    },
    {
      "cell_type": "code",
      "source": [
        "model = ClassificationModel('bert', '/content/gdrive/MyDrive/Colab Notebooks/NLP/checkpoint-16560-epoch-20')"
      ],
      "metadata": {
        "id": "HvGa_KFHKmup"
      },
      "execution_count": null,
      "outputs": []
    },
    {
      "cell_type": "code",
      "source": [
        "data=pd.read_csv('/content/gdrive/MyDrive/Colab Notebooks/NLP/olid/olid-subset-diagnostic-tests.csv', index_col=0,encoding='utf-8')\n",
        "pert_data=pd.read_csv('/content/gdrive/MyDrive/Colab Notebooks/NLP/olid/perturbed2.csv', index_col=0,encoding='utf-8')\n",
        "pert_data=pert_data.reset_index()"
      ],
      "metadata": {
        "id": "gj3WaSC-NlCo"
      },
      "execution_count": null,
      "outputs": []
    },
    {
      "cell_type": "code",
      "source": [
        "np.random.seed(42)\n",
        "result, model_outputs, wrong_predictions = model.eval_model(data)\n",
        "result, wrong_predictions"
      ],
      "metadata": {
        "id": "uGAtzsW9N0Dt"
      },
      "execution_count": null,
      "outputs": []
    },
    {
      "cell_type": "code",
      "source": [
        "p_result, p_model_outputs, p_wrong_predictions = model.eval_model(pert_data)\n",
        "p_result, p_wrong_predictions"
      ],
      "metadata": {
        "id": "igQR2AFWZ7W_"
      },
      "execution_count": null,
      "outputs": []
    }
  ]
}